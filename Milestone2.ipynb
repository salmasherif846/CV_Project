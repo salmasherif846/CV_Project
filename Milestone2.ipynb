{
  "cells": [
    {
      "cell_type": "markdown",
      "source": [
        "# **Decoding Code**"
      ],
      "metadata": {
        "id": "NtGIYu1lca_K"
      }
    },
    {
      "cell_type": "markdown",
      "source": [],
      "metadata": {
        "id": "2LdH3S1Cci1y"
      }
    },
    {
      "cell_type": "code",
      "execution_count": 264,
      "metadata": {
        "colab": {
          "base_uri": "https://localhost:8080/",
          "height": 575
        },
        "id": "vFz4qT-EyCxX",
        "outputId": "deccf693-9fc0-47c8-d6fe-2ab0ee87435a"
      },
      "outputs": [
        {
          "output_type": "stream",
          "name": "stdout",
          "text": [
            "Average pixel value: 201.28995141308255\n",
            "Standard deviation of pixel value: 1.020852387094934\n",
            "rotation_angle nan\n"
          ]
        },
        {
          "output_type": "stream",
          "name": "stderr",
          "text": [
            "/usr/local/lib/python3.10/dist-packages/numpy/core/fromnumeric.py:3504: RuntimeWarning: Mean of empty slice.\n",
            "  return _methods._mean(a, axis=axis, dtype=dtype,\n",
            "/usr/local/lib/python3.10/dist-packages/numpy/core/_methods.py:129: RuntimeWarning: invalid value encountered in scalar divide\n",
            "  ret = ret.dtype.type(ret / rcount)\n"
          ]
        },
        {
          "output_type": "stream",
          "name": "stdout",
          "text": [
            "affine transform: None\n",
            "avg_intensity_diff 0.9822980622516625\n",
            "gone with the wind\n"
          ]
        },
        {
          "output_type": "display_data",
          "data": {
            "text/plain": [
              "<Figure size 1500x500 with 2 Axes>"
            ],
            "image/png": "[encoded data removed]"
          },
          "metadata": {}
        }
      ],
      "source": [
        "#DAH AKHR WAHED BA3DEL FEEHHHHH\n",
        "#bey3ady 14 testcases m3ada 3,14\n",
        "#jocker:MALHH W FELFEL , The Mighty Finger , Caeser-cipher , V3-QR , get started\n",
        "import cv2 as cv\n",
        "import cv2\n",
        "import numpy as np\n",
        "import matplotlib.pyplot as plt\n",
        "from scipy.optimize import curve_fit\n",
        "import math\n",
        "\n",
        "img = cv.imread('/content/sample_data/images/10-Gone-With-The-Wind.png')\n",
        "\n",
        "# Check if the image was loaded successfully\n",
        "assert img is not None, \"File could not be read, check with os.path.exists()\"\n",
        "\n",
        "avg_pixel_value = np.mean(img)\n",
        "std_dev_pixel_value = np.std(img) # amalto ashan lwo SD kan 3ale f daa hy2ole en fe variability 3alyaa f momkn aaul sa3thaa eno random distributed\n",
        "\n",
        "print(\"Average pixel value:\", avg_pixel_value)\n",
        "print(\"Standard deviation of pixel value:\", std_dev_pixel_value)\n",
        "\n",
        "def detect_affine_transformation(img):\n",
        "    # Convert the image to grayscale\n",
        "    gray = cv.cvtColor(img, cv.COLOR_BGR2GRAY)\n",
        "    # Apply median filter to remove salt and pepper noise\n",
        "    median_filtered = cv.medianBlur(gray, 11)\n",
        "    # Apply thresholding to remove gray background\n",
        "    _, thresholded = cv.threshold(gray, 150, 255, cv.THRESH_BINARY)\n",
        "    # Morphological operations to remove small black noise regions\n",
        "    kernel = np.ones((15, 15), np.uint8)\n",
        "    open= cv.morphologyEx(thresholded, cv.MORPH_OPEN, kernel)\n",
        "    open= cv.morphologyEx(thresholded, cv.MORPH_CLOSE, kernel)\n",
        "    erosion_kernel = np.ones((5, 5), np.uint8)\n",
        "    erode = cv.erode(open, erosion_kernel, iterations=2)\n",
        "    final = cv2.dilate(erode,erosion_kernel , iterations=2)\n",
        "\n",
        "    # Apply Canny edge detection to find edges in the image\n",
        "    edges = cv2.Canny(final, 50, 150)\n",
        "\n",
        "    # Apply Hough Transform to detect lines in the image\n",
        "    lines = cv2.HoughLines(edges, 1, np.pi/180, 100)\n",
        "\n",
        "    if lines is not None:\n",
        "        # Analyze line orientations\n",
        "        horizontal_lines = 0\n",
        "        vertical_lines = 0\n",
        "        for line in lines:\n",
        "            rho, theta = line[0]\n",
        "            # Convert theta to degrees\n",
        "            angle_degrees = np.degrees(theta)\n",
        "            # hena lw shaf ay line b angle ben el 80 w el 100 f da 8alebn kan horizontal abl el affine and same for VT\n",
        "            if 80 <= angle_degrees <= 100 or 260 <= angle_degrees <= 280: #3ashan el actual angles of hz lines have orientations close to 90 degrees\n",
        "                horizontal_lines += 1\n",
        "\n",
        "            elif 10 <= angle_degrees <= 30 or 160 <= angle_degrees <= 170: #w el vt lines have orientations close to 0 or 180 degrees 3ashan kda bngeb el range mabenhom\n",
        "                vertical_lines += 1\n",
        "\n",
        "        # Check if there are significant numbers of both horizontal and vertical lines\n",
        "        if horizontal_lines >= 2 and vertical_lines >= 2:\n",
        "            return True\n",
        "\n",
        "        else:\n",
        "            return False\n",
        "\n",
        "\n",
        "#de bt3ml detection l highest freq value in the image\n",
        "\n",
        "def apply_high_pass_filter(img, threshold):\n",
        "    # Compute the Fourier Transform of the image\n",
        "    dft2 = np.fft.fft2(img)\n",
        "    dft2_shift = np.fft.fftshift(dft2)  #shift the zero-frequency component to the center of the frequency spectrum\n",
        "    magnitude_spectrum = np.max(np.abs(dft2_shift))\n",
        "    # Threshold the magnitude to isolate high-frequency components\n",
        "    high_frequency_mask = magnitude_spectrum > threshold\n",
        "\n",
        "    return high_frequency_mask\n",
        "\n",
        "def rotate(image, angle, center=None, scale=1.0):\n",
        "    (h, w) = image.shape[:2]\n",
        "\n",
        "    if center is None:\n",
        "        center = (w / 2, h / 2)\n",
        "\n",
        "    # Perform the rotation\n",
        "    M = cv2.getRotationMatrix2D(center, angle, scale)\n",
        "    rotated = cv2.warpAffine(image, M, (w, h))\n",
        "\n",
        "    return rotated\n",
        "\n",
        "# kol el sowar leha angle f akbr angle le image heya dy el rotated\n",
        "def detect_rotation_angle(img):\n",
        "    # Convert the image to grayscale\n",
        "    gray = cv.cvtColor(img, cv.COLOR_BGR2GRAY)\n",
        "    # Apply Canny edge detection\n",
        "    edges = cv.Canny(gray, 50, 150, apertureSize=3)\n",
        "    # Apply Hough transform to detect lines\n",
        "    lines = cv.HoughLines(edges, 1, np.pi / 180, 200)\n",
        "    # Calculate the average angle of detected lines\n",
        "    angles = []\n",
        "    if lines is not None:\n",
        "        for line in lines:\n",
        "            rho, theta = line[0]\n",
        "            angles.append(theta)\n",
        "    # Calculate the average angle\n",
        "    avg_angle = np.mean(angles)\n",
        "    # Convert angle from radians to degrees\n",
        "    rotation_angle_degrees = math.degrees(avg_angle)\n",
        "    return rotation_angle_degrees\n",
        "\n",
        "# Detect rotation angle\n",
        "rotation_angle = detect_rotation_angle(img)\n",
        "print(\"rotation_angle\",rotation_angle)\n",
        "\n",
        "# Define a threshold angle for considering rotation\n",
        "rotation_threshold = 100  # Adjust as needed\n",
        "\n",
        "\n",
        "\n",
        "threshold_value=100\n",
        "high_frequency_mask = apply_high_pass_filter(img, threshold_value)\n",
        "\n",
        "affine_transformed = detect_affine_transformation(img)\n",
        "print(\"affine transform:\", affine_transformed)\n",
        "\n",
        "\n",
        "if affine_transformed:\n",
        "\n",
        "    print(\"Railfence-cipher\")\n",
        "    original_points = np.array([\n",
        "          [316, 198],\n",
        "          [972, 92],\n",
        "          [60, 950],\n",
        "          [719, 845]\n",
        "      ], dtype=np.float32)\n",
        "\n",
        "    # Desired points\n",
        "    desired_points = np.array([\n",
        "        [0, 0],\n",
        "        [1010, -1],\n",
        "        [1, 1008],\n",
        "        [709, 1008]\n",
        "    ], dtype=np.float32)\n",
        "\n",
        "    # Calculate the affine transformation matrix\n",
        "    transformation_matrix = cv2.getAffineTransform(original_points[:3], desired_points[:3])\n",
        "\n",
        "    # Transform the image\n",
        "    gray = cv.cvtColor(img, cv.COLOR_BGR2GRAY)\n",
        "    final_result = cv2.warpAffine(gray, transformation_matrix, (gray.shape[1], gray.shape[0]))\n",
        "\n",
        "else:\n",
        "\n",
        "  if abs(rotation_angle) > rotation_threshold:\n",
        "    #if abs(rotation_angle - 180) > rotation_180_threshold:\n",
        "    #print(\"Lefy bena y donya\")\n",
        "    print(\"Matswr 3edll ya3m\")\n",
        "    gray = cv2.cvtColor(img, cv2.COLOR_BGR2GRAY)\n",
        "\n",
        "    blurred = cv2.GaussianBlur(gray, (5, 5), 0)\n",
        "\n",
        "    # Apply Otsu's thresholding to segment the foreground\n",
        "    _, thresholded = cv2.threshold(blurred, 0, 255, cv2.THRESH_BINARY + cv2.THRESH_OTSU)\n",
        "\n",
        "    inverted_thresholded = cv2.bitwise_not(thresholded)\n",
        "    inverted_colors = cv2.bitwise_not(img)\n",
        "\n",
        "    # Apply bitwise AND operation to get the foreground\n",
        "    foreground = cv2.bitwise_and(inverted_colors, inverted_colors, mask=inverted_thresholded)\n",
        "\n",
        "    rotated_image = rotate(foreground, angle=-7.5)\n",
        "\n",
        "    # Calculate the dimensions of the canvas\n",
        "    canvas_height = rotated_image.shape[0]\n",
        "    canvas_width = rotated_image.shape[1]\n",
        "\n",
        "    # Create a blank canvas with white background\n",
        "    canvas = np.ones((canvas_height, canvas_width, 3), dtype=np.uint8) * 255\n",
        "\n",
        "    # Calculate the position to place the image slightly to the right\n",
        "    top = 0\n",
        "    left = 0\n",
        "    # Paste the rotated image onto the canvas at the calculated position\n",
        "    canvas[top:top+rotated_image.shape[0], left:left+rotated_image.shape[1]] = rotated_image\n",
        "    final_result=255-canvas\n",
        "\n",
        "  elif std_dev_pixel_value > threshold_value:\n",
        "\n",
        "    print(\"jockerrr\")\n",
        "    gray = cv.cvtColor(img, cv.COLOR_BGR2GRAY)\n",
        "    # Apply median filter to remove salt and pepper noise\n",
        "    median_filtered = cv.medianBlur(gray, 11)\n",
        "    # Apply thresholding to remove gray background\n",
        "    _, thresholded = cv.threshold(median_filtered, 150, 255, cv.THRESH_BINARY)\n",
        "    # Morphological operations to remove small black noise regions\n",
        "    kernel = np.ones((15, 15), np.uint8)\n",
        "    final_result= cv.morphologyEx(thresholded, cv.MORPH_OPEN, kernel)\n",
        "    final_result= cv.morphologyEx(thresholded, cv.MORPH_CLOSE, kernel)\n",
        "    erosion_kernel = np.ones((5, 5), np.uint8)\n",
        "    final_result = cv.erode(final_result, erosion_kernel, iterations=2)\n",
        "    final_result = cv2.dilate(final_result,erosion_kernel , iterations=2)\n",
        "    erosion_kernel = np.ones((7, 7), np.uint8)\n",
        "    final_result = cv2.dilate(final_result,erosion_kernel , iterations=4)\n",
        "    erosion_kernel = np.ones((7, 7), np.uint8)\n",
        "    final_result = cv2.erode(final_result,erosion_kernel , iterations=4)\n",
        "    erosion_kernel = np.ones((2, 2), np.uint8)\n",
        "    final_result = cv2.dilate(final_result,erosion_kernel , iterations=2)\n",
        "\n",
        "\n",
        "\n",
        "\n",
        "  elif std_dev_pixel_value < threshold_value:\n",
        "      # Check if the image is flipped vertically (bn2asm elsora top w bottom w bn compare el diff benhum w 7ata threshold lwo akbr mno ybaa elsora flipped vr)\n",
        "      height, width, _ = img.shape\n",
        "      top_half = img[:height // 2, :]\n",
        "      bottom_half = img[height // 2:, :]\n",
        "      intensity_diff = np.abs(top_half.astype(np.int32) - bottom_half.astype(np.int32))\n",
        "      avg_intensity_diff = np.mean(intensity_diff)\n",
        "      print(\"avg_intensity_diff\", avg_intensity_diff )\n",
        "      vertical_flip_threshold = 25\n",
        "\n",
        "      if avg_intensity_diff > vertical_flip_threshold:\n",
        "        if avg_pixel_value < threshold_value:\n",
        "          print(\"black mirror\")\n",
        "          flipped_image = cv.flip(img, 1)\n",
        "          gray = cv.cvtColor(flipped_image, cv.COLOR_BGR2GRAY)\n",
        "          equalized_image = cv.equalizeHist(gray)\n",
        "          final_result = cv.bitwise_not(equalized_image)\n",
        "\n",
        "        elif abs(std_dev_pixel_value - avg_intensity_diff) < 1:  #ashan t check in elimage has relatively uniform texture\n",
        "          print(\"My Phone fell & Beast mode \")\n",
        "          gray = cv.cvtColor(img, cv.COLOR_BGR2GRAY)\n",
        "          # Threshold to identify grey pixels\n",
        "          _, mask = cv2.threshold(gray, 90, 255, cv2.THRESH_BINARY)\n",
        "          # Invert the mask to get the background\n",
        "          background_mask = cv2.bitwise_not(mask)\n",
        "          # Create a white background image\n",
        "          white_background = np.full_like(img, 255)\n",
        "          # Apply the background mask to fill the background with white\n",
        "          output_image = cv2.bitwise_or(img, white_background, mask=background_mask)\n",
        "          # Invert the edges image\n",
        "          inverted_edges = cv2.bitwise_not(output_image)\n",
        "          # Define the square kernel for opening\n",
        "          kernel_opening = np.ones((5, 5), np.uint8)\n",
        "          # Perform opening on the inverted edges image\n",
        "          eroded_image = cv2.morphologyEx(inverted_edges, cv2.MORPH_OPEN, kernel_opening)\n",
        "          # Define a larger square kernel for further opening\n",
        "          kernel_dilation = np.ones((7, 3), np.uint8)\n",
        "          # Perform opening again on the eroded image\n",
        "          final_result = cv2.morphologyEx(eroded_image, cv2.MORPH_OPEN, kernel_dilation)\n",
        "\n",
        "\n",
        "        elif np.any(high_frequency_mask):\n",
        "          print(\"Weweeweeeee\")\n",
        "          gray = cv.cvtColor(img, cv.COLOR_BGR2GRAY)\n",
        "          dft2 = np.fft.fft2(gray)\n",
        "          dft2_shift = np.fft.fftshift(dft2)\n",
        "          # Identify the highest noise frequency using thresholding\n",
        "          threshold = 0.05\n",
        "          noise_mask = np.abs(dft2_shift) < threshold * np.max(np.abs(dft2_shift))\n",
        "          # Apply the filter to the Fourier spectrum to remove noise\n",
        "          filtered_dft2_shift = dft2_shift.copy()\n",
        "          filtered_dft2_shift[noise_mask] = 0\n",
        "          # Reconstruct the image in the spatial domain using the inverse Fourier transform\n",
        "          filtered_dft2 = np.fft.ifftshift(filtered_dft2_shift)\n",
        "          filtered_image = np.abs(np.fft.ifft2(filtered_dft2))\n",
        "          final2_image = gray - filtered_image\n",
        "          # Apply thresholding to remove white-gray color\n",
        "          thresholdV = 15  # Adjust this value as needed\n",
        "          _, thresholded_image = cv2.threshold(final2_image, thresholdV, 255, cv2.THRESH_BINARY)\n",
        "          # Apply dilation\n",
        "          kernel_size = (20, 20)  # Adjust kernel size as needed\n",
        "          iterations = 2  # Adjust number of iterations as needed\n",
        "          dilated_image = cv2.dilate(thresholded_image, kernel=np.ones(kernel_size, np.uint8), iterations=iterations)\n",
        "          # Apply erosion to remove black spots in the border\n",
        "          erosion_kernel = np.ones(kernel_size, np.uint8)\n",
        "          final_result = cv2.erode(dilated_image, kernel=erosion_kernel, iterations=iterations)\n",
        "\n",
        "\n",
        "      elif avg_pixel_value > threshold_value:\n",
        "\n",
        "        if std_dev_pixel_value < 10: # std <10 3ashan heya kolha loon wahd grey mafish variations f el std olayla 3aks el compresso espresso\n",
        "          print(\"gone with the wind\")\n",
        "          gray = cv.cvtColor(img, cv.COLOR_BGR2GRAY)\n",
        "          # histogram equalization to enhance brightness and contrast\n",
        "          equalized_image = cv.equalizeHist(gray)\n",
        "          # binary thresholding to segment the foreground object\n",
        "          _, thresholded_image = cv.threshold(equalized_image, 150, 255, cv.THRESH_BINARY)\n",
        "          # closing operation to close small holes and gaps in the foreground\n",
        "          kernel = np.ones((15, 15), np.uint8)\n",
        "          final_result = cv.morphologyEx(thresholded_image, cv.MORPH_OPEN, kernel)\n",
        "          kernel_dilation = np.ones((3, 3), np.uint8)\n",
        "          final_result = cv.erode(final_result, kernel_dilation, iterations=6)\n",
        "          kernel_dilation = np.ones((4, 4), np.uint8)\n",
        "          final_result = cv.dilate(final_result, kernel_dilation, iterations=8)\n",
        "          kernel = np.ones((10,10), np.uint8)\n",
        "          final_result = cv.morphologyEx(thresholded_image, cv.MORPH_CLOSE, kernel)\n",
        "          final_result = cv.erode(final_result, kernel_dilation, iterations=3)\n",
        "          kernel_dilation = np.ones((3, 3), np.uint8)\n",
        "          final_result = cv.dilate(final_result, kernel_dilation, iterations=5)\n",
        "\n",
        "\n",
        "        else:\n",
        "          print(\"compresso espresso\")\n",
        "          gray = cv.cvtColor(img, cv.COLOR_BGR2GRAY)\n",
        "          equalized_image = cv2.equalizeHist(gray)\n",
        "          # Apply opening\n",
        "          kernel_opening = np.ones((22, 22), np.uint8)\n",
        "          opened_image = cv.morphologyEx(equalized_image, cv.MORPH_OPEN, kernel_opening)\n",
        "          # Apply dilation\n",
        "          kernel_dilation = np.ones((5, 5), np.uint8)\n",
        "          final_result = cv.dilate(opened_image, kernel_dilation, iterations=1)\n",
        "          kernel_dilation = np.ones((5, 5), np.uint8)\n",
        "          final_result = cv.erode(final_result, kernel_dilation, iterations=2)\n",
        "\n",
        "      elif avg_pixel_value < threshold_value and std_dev_pixel_value < 10 :\n",
        "            print(\"elnoor 2ata3\")\n",
        "            gray = cv.cvtColor(img, cv.COLOR_BGR2GRAY)\n",
        "            # Thresholding to segment black regions\n",
        "            _, binary_mask = cv.threshold(gray, 1, 255, cv.THRESH_BINARY)\n",
        "\n",
        "            # Invert the binary mask\n",
        "            binary_mask_inv = cv.bitwise_not(binary_mask)\n",
        "            # Apply closing operation to the black regions\n",
        "            kernel = cv.getStructuringElement(cv.MORPH_RECT, (40, 40))\n",
        "            qr_code_closed = cv.morphologyEx(binary_mask_inv, cv.MORPH_CLOSE, kernel)\n",
        "            # Invert the closed mask back to its original form\n",
        "            final_result = cv.bitwise_not(qr_code_closed)\n",
        "            kernel_dilation = np.ones((5, 5), np.uint8)\n",
        "            final_result = cv.erode(final_result, kernel_dilation, iterations=3)\n",
        "            kernel_dilation = np.ones((5, 5), np.uint8)\n",
        "            final_result = cv.erode(final_result, kernel_dilation, iterations=1)\n",
        "\n",
        "\n",
        "\n",
        "\n",
        "\n",
        "\n",
        "\n",
        "\n",
        "plt.figure(figsize=(15, 5))\n",
        " # Display original image\n",
        "plt.subplot(1, 3, 1)\n",
        "plt.imshow(cv.cvtColor(img, cv.COLOR_BGR2RGB))\n",
        "plt.title('Original Image')\n",
        "plt.axis('off')\n",
        "\n",
        "plt.subplot(1, 3, 2)\n",
        "plt.imshow(final_result, cmap='gray')\n",
        "plt.title('Final Image')\n",
        "plt.axis('off')\n",
        "plt.show()"
      ]
    },
    {
      "cell_type": "code",
      "source": [
        "#lefy bena ya donzz\n",
        "import cv2 as cv\n",
        "import matplotlib.pyplot as plt\n",
        "\n",
        "# Read the image\n",
        "img_path = '/content/sample_data/images/03-Leffy-bina-ya-donya.png'\n",
        "img = cv.imread(img_path, cv.IMREAD_GRAYSCALE)\n",
        "\n",
        "# Check if the image was loaded successfully\n",
        "assert img is not None, \"File could not be read, check with os.path.exists()\"\n",
        "\n",
        "\n",
        "# Rotate the image by 180 degrees\n",
        "rows, cols = img.shape\n",
        "M = cv.getRotationMatrix2D(((cols-1)/2.0, (rows-1)/2.0), 180, 1)\n",
        "final_result = cv.warpAffine(img, M, (cols, rows))\n",
        "\n",
        "# Display the original and rotated images\n",
        "plt.figure(figsize=(10, 5))\n",
        "\n",
        "plt.subplot(1, 2, 1)\n",
        "plt.imshow(img, cmap='gray')\n",
        "plt.title('Original Image')\n",
        "plt.axis('off')\n",
        "\n",
        "plt.subplot(1, 2, 2)\n",
        "plt.imshow(final_result, cmap='gray')\n",
        "plt.title('Rotated Image (180 degrees)')\n",
        "plt.axis('off')\n",
        "\n",
        "plt.show()\n"
      ],
      "metadata": {
        "colab": {
          "base_uri": "https://localhost:8080/",
          "height": 411
        },
        "id": "l9gci_26Wq8r",
        "outputId": "02135797-9753-452e-bff6-7155ded48a1e"
      },
      "execution_count": null,
      "outputs": [
        {
          "output_type": "display_data",
          "data": {
            "text/plain": [
              "<Figure size 1000x500 with 2 Axes>"
            ],
            "image/png": "[encoded data removed]"
          },
          "metadata": {}
        }
      ]
    },
    {
      "cell_type": "code",
      "source": [
        "import cv2\n",
        "import numpy as np\n",
        "from matplotlib import pyplot as plt\n",
        "\n",
        "# Load the image\n",
        "image = cv2.imread(r'/content/sample_data/images/07-THE-MIGHTY-FINGER.png')\n",
        "\n",
        "# Check if the image was loaded successfully\n",
        "if image is None:\n",
        "    print(\"Error: Unable to load image.\")\n",
        "else:\n",
        "    # Convert the image to grayscale\n",
        "    gray = cv2.cvtColor(image, cv2.COLOR_BGR2GRAY)\n",
        "\n",
        "    # Apply median filter to remove salt and pepper noise\n",
        "    median_filtered = cv2.medianBlur(gray, 11)  # Adjust the kernel size as needed\n",
        "\n",
        "    # Apply thresholding to remove gray background\n",
        "    _, thresholded = cv2.threshold(median_filtered, 150, 255, cv2.THRESH_BINARY)\n",
        "\n",
        "    # Morphological operations to remove small black noise regions\n",
        "    kernel = np.ones((15, 15), np.uint8)\n",
        "    Morpho = cv2.morphologyEx(thresholded, cv2.MORPH_OPEN, kernel)\n",
        "    final_result= cv2.morphologyEx(Morpho, cv2.MORPH_CLOSE, kernel)  # Corrected this line\n",
        "\n",
        "    # Delete the first columns (set them to white)\n",
        "    final_result[:, :50] = 255  # Adjust the number of columns to delete as needed\n",
        "\n",
        "    # Display the original, median filtered, and processed images side by side\n",
        "    plt.figure(figsize=(15, 5))\n",
        "\n",
        "    # Original image\n",
        "    plt.subplot(1, 3, 1)\n",
        "    plt.imshow(cv2.cvtColor(image, cv2.COLOR_BGR2RGB))\n",
        "    plt.title('Original Image')\n",
        "    plt.axis('off')\n",
        "\n",
        "    # Thresholded image\n",
        "    plt.subplot(1, 3, 2)\n",
        "    plt.imshow(thresholded, cmap='gray')\n",
        "    plt.title('removing finger')\n",
        "    plt.axis('off')\n",
        "\n",
        "    # Filtered thresholded image\n",
        "    plt.subplot(1, 3, 3)\n",
        "    plt.imshow(final_result, cmap='gray')\n",
        "    plt.title('Final Result')\n",
        "    plt.axis('off')\n",
        "\n",
        "    plt.show()"
      ],
      "metadata": {
        "colab": {
          "base_uri": "https://localhost:8080/",
          "height": 378
        },
        "id": "ofkCNGuTJxiq",
        "outputId": "bffa7f23-ee5d-4ec2-c6a3-f75b705bde7d"
      },
      "execution_count": 163,
      "outputs": [
        {
          "output_type": "display_data",
          "data": {
            "text/plain": [
              "<Figure size 1500x500 with 3 Axes>"
            ],
            "image/png": "[encoded data removed]"
          },
          "metadata": {}
        }
      ]
    },
    {
      "cell_type": "code",
      "execution_count": 265,
      "metadata": {
        "colab": {
          "base_uri": "https://localhost:8080/",
          "height": 285
        },
        "id": "eIqg9S-eYVb6",
        "outputId": "b7cecc75-cec9-4ec8-f7b5-e9f7be67058b"
      },
      "outputs": [
        {
          "output_type": "display_data",
          "data": {
            "text/plain": [
              "<Figure size 300x300 with 1 Axes>"
            ],
            "image/png": "[encoded data removed]"
          },
          "metadata": {}
        },
        {
          "output_type": "stream",
          "name": "stdout",
          "text": [
            "(945, 945)\n"
          ]
        }
      ],
      "source": [
        "import numpy as np\n",
        "import cv2\n",
        "import matplotlib.pyplot as plt\n",
        "\n",
        "\n",
        "# Determine the size of the QR code region without the quiet zone\n",
        "start_row = -1\n",
        "start_col = -1\n",
        "end_row = -1\n",
        "end_col = -1\n",
        "\n",
        "for row_index, row in enumerate(final_result):\n",
        "    for pixel in row:\n",
        "        if (pixel != 255).any():\n",
        "            start_row = row_index\n",
        "            break\n",
        "    if start_row != -1:\n",
        "        break\n",
        "\n",
        "for row_index, row in enumerate(final_result[::-1]):\n",
        "    for pixel in row:\n",
        "        if (pixel != 255).any():\n",
        "            end_row = final_result.shape[0] - row_index\n",
        "            break\n",
        "    if end_row != -1:\n",
        "        break\n",
        "\n",
        "for col_index, col in enumerate(cv2.transpose(final_result)):\n",
        "    for pixel in col:\n",
        "        if (pixel != 255).any():\n",
        "            start_col = col_index\n",
        "            break\n",
        "    if start_col != -1:\n",
        "        break\n",
        "\n",
        "for col_index, col in enumerate(cv2.transpose(final_result)[::-1]):\n",
        "    for pixel in col:\n",
        "        if (pixel != 255).any():\n",
        "            end_col = final_result.shape[1] - col_index\n",
        "            break\n",
        "    if end_col != -1:\n",
        "        break\n",
        "\n",
        "qr_no_quiet_zone = final_result[start_row:end_row, start_col:end_col]\n",
        "\n",
        "# Calculate the number of grid cells\n",
        "grid_cells_num = 21\n",
        "\n",
        "# Calculate the size of each grid cell\n",
        "grid_cell_size = int(max(np.ceil(qr_no_quiet_zone.shape[0] / grid_cells_num),\n",
        "                         np.ceil(qr_no_quiet_zone.shape[1] / grid_cells_num)))\n",
        "\n",
        "# Resize the QR code region to ensure it's a square matrix\n",
        "qr_dim = grid_cells_num * grid_cell_size\n",
        "qr_no_quiet_zone = cv2.resize(qr_no_quiet_zone, (qr_dim, qr_dim))\n",
        "\n",
        "# Reshape the resized QR code region into a 3-dimensional array\n",
        "qr_cells_3d = qr_no_quiet_zone.reshape((grid_cells_num, grid_cell_size, -1))\n",
        "\n",
        "# Determine the number of splits along each axis to ensure equal division\n",
        "split_size = qr_cells_3d.shape[2] // grid_cells_num\n",
        "\n",
        "# Manually split the 3-dimensional array into individual cells\n",
        "qr_cells = np.array([[qr_cells_3d[i, :, j * split_size:(j + 1) * split_size] for j in range(grid_cells_num)] for i in range(grid_cells_num)])\n",
        "\n",
        "\n",
        "# Display the resized QR code region\n",
        "fig = plt.figure(figsize=(3, 3))\n",
        "plt.xticks([], [])\n",
        "plt.yticks([], [])\n",
        "plt.imshow(qr_no_quiet_zone, cmap='gray')\n",
        "plt.show()\n",
        "print(qr_no_quiet_zone.shape)"
      ]
    },
    {
      "cell_type": "code",
      "execution_count": 266,
      "metadata": {
        "colab": {
          "base_uri": "https://localhost:8080/",
          "height": 422
        },
        "id": "HSAqBg1UU5KO",
        "outputId": "8f41cd14-5c19-426d-9486-6387931dedc6"
      },
      "outputs": [
        {
          "output_type": "display_data",
          "data": {
            "text/plain": [
              "<Figure size 500x500 with 441 Axes>"
            ],
            "image/png": "[encoded data removed]"
          },
          "metadata": {}
        }
      ],
      "source": [
        "_, axes = plt.subplots(grid_cells_num, grid_cells_num, figsize=(5, 5))\n",
        "for i, row in enumerate(axes):\n",
        "    for j, col in enumerate(row):\n",
        "        col.imshow(qr_cells[i][j], cmap=\"gray\", vmin=0, vmax=255)\n",
        "        col.get_xaxis().set_visible(False)\n",
        "        col.get_yaxis().set_visible(False)\n",
        "        col.spines[:].set_color('red')\n",
        "\n"
      ]
    },
    {
      "cell_type": "code",
      "execution_count": 270,
      "metadata": {
        "colab": {
          "base_uri": "https://localhost:8080/"
        },
        "id": "azJOH5KLU3U5",
        "outputId": "dc2c309c-ce6a-4236-eb15-a7e7244179a4"
      },
      "outputs": [
        {
          "output_type": "stream",
          "name": "stdout",
          "text": [
            "***********************************************************\n",
            "***********************************************************\n",
            "Not all elements are 1s in the specified region.\n",
            "[[0 0 0 0 0 0 0 1 1 1 1 1 1 1 0 1 1 1 1 1 0]\n",
            " [0 1 1 1 1 1 0 1 1 1 1 1 0 1 0 1 0 0 0 1 0]\n",
            " [0 1 0 0 0 1 0 1 1 1 1 0 1 1 0 1 0 0 0 1 0]\n",
            " [0 1 0 0 0 1 0 1 0 0 0 0 1 1 0 1 0 0 0 1 0]\n",
            " [0 1 0 0 0 1 0 1 0 0 0 0 1 1 0 1 1 1 1 1 0]\n",
            " [0 1 1 1 1 1 0 1 0 0 0 0 0 1 0 0 0 0 0 0 0]\n",
            " [0 0 0 0 0 0 0 1 0 1 0 1 0 1 0 0 0 0 0 0 0]\n",
            " [1 1 1 1 1 1 1 1 0 1 1 1 0 1 1 1 1 1 1 1 1]\n",
            " [0 0 0 1 1 0 0 1 0 1 0 1 1 0 0 0 0 1 1 0 0]\n",
            " [0 0 1 1 1 1 1 0 1 0 1 1 0 1 0 1 0 0 0 1 0]\n",
            " [0 0 1 1 0 1 0 0 0 1 0 1 0 0 0 1 0 1 1 1 0]\n",
            " [1 1 1 1 0 0 1 0 1 1 1 0 1 0 1 1 1 0 1 0 0]\n",
            " [1 0 0 0 1 1 0 1 1 0 1 0 1 1 0 1 0 0 1 1 0]\n",
            " [1 1 1 1 1 1 1 1 0 1 0 1 0 0 1 0 0 0 0 1 1]\n",
            " [0 0 0 0 0 0 0 1 1 0 1 1 0 0 0 1 0 0 1 1 0]\n",
            " [0 1 1 1 1 1 0 1 0 0 0 0 0 0 1 0 1 0 1 0 0]\n",
            " [0 1 0 0 0 1 0 1 1 1 0 1 0 0 1 0 1 0 1 1 1]\n",
            " [0 1 0 0 0 1 0 1 1 0 1 0 1 1 0 1 0 0 1 1 1]\n",
            " [0 1 0 0 0 1 0 1 0 0 0 1 0 0 0 1 0 1 0 0 0]\n",
            " [0 1 1 1 1 1 0 1 0 0 1 0 1 0 1 0 0 0 1 1 1]\n",
            " [0 0 0 0 0 0 0 1 0 1 1 1 0 0 1 1 0 1 0 1 0]]\n"
          ]
        }
      ],
      "source": [
        "import numpy as np\n",
        "import cv2\n",
        "#ams7 column el mighty finger\n",
        "# qr_cells = qr_cells[:, 1:]\n",
        "# Assuming grid_cells_num is the number of cells in each row/column of the grid\n",
        "grid_cells_num = len(qr_cells)  # Assuming qr_cells is a square grid\n",
        "\n",
        "\n",
        "\n",
        "# Create an empty numeric array to store the converted grid\n",
        "qr_cells_numeric = np.ndarray((grid_cells_num, grid_cells_num), dtype=np.uint8)\n",
        "\n",
        "\n",
        "for i, row in enumerate(qr_cells):\n",
        "    for j, cell in enumerate(row):\n",
        "        qr_cells_numeric[i, j] = (np.median(cell)//255)\n",
        "\n",
        "\n",
        "\n",
        "print('***********************************************************')\n",
        "\n",
        "\n",
        "print('***********************************************************')\n",
        "#Generic code for fixing locator boxes bs incomplete\n",
        "# def determine_case(qr_cells_numeric):\n",
        "#     # Check the shape of the input grid to determine the case\n",
        "#     if qr_cells_numeric.shape[0] == qr_cells_numeric.shape[1] and qr_cells_numeric.shape[0] >= 14:\n",
        "#         if (qr_cells_numeric[:7, :7] == qr_cells_numeric[-7:, :7]).all():\n",
        "#             return 1\n",
        "#         elif (qr_cells_numeric[:7, :7] == qr_cells_numeric[-7:, :7]).all():\n",
        "#             return 2\n",
        "#         elif (qr_cells_numeric[:7, -7:] == qr_cells_numeric[-7:, :7]).all():\n",
        "#             return 3\n",
        "#     # Add more conditions for other cases if needed\n",
        "#     else:\n",
        "#         raise ValueError(\"Invalid QR code data\")\n",
        "\n",
        "# # Get the case number\n",
        "# case = determine_case(qr_cells_numeric)\n",
        "\n",
        "# # Perform actions based on the determined case\n",
        "# if case == 1:\n",
        "#     source_data = qr_cells_numeric[-7:, :7]\n",
        "#     destination_regions = [(slice(None, 7), slice(None, 7)), (slice(None, 7), slice(-7, None))]\n",
        "# elif case == 2:\n",
        "#     source_data = qr_cells_numeric[:7, :7]\n",
        "#     destination_regions = [(slice(-7, None), slice(None, 7)), (slice(None, 7), slice(-7, None))]\n",
        "# elif case == 3:\n",
        "#     source_data = qr_cells_numeric[:7, -7:]\n",
        "#     destination_regions = [(slice(None, 7), slice(None, 7)), (slice(-7, None), slice(None, 7))]\n",
        "\n",
        "# # Copy the source data to the destination regions\n",
        "# for region in destination_regions:\n",
        "#     qr_cells_numeric[region] = source_data\n",
        "\n",
        "#*************************************************************************\n",
        "#da code manual le fixing el locator boxessss\n",
        "# le compresso espresso , gone with the wind kmaaan\n",
        "# bottom_left_data=qr_cells_numeric[-7:, :7]\n",
        "\n",
        "# qr_cells_numeric[:7, :7]=bottom_left_data\n",
        "# qr_cells_numeric[:7, -7:] = bottom_left_data\n",
        "\n",
        "# FOR MIGHTYY FINGER\n",
        "Top_Right_data=qr_cells_numeric[:7, -7:]\n",
        "qr_cells_numeric[:7, :7]=Top_Right_data\n",
        "qr_cells_numeric[-7:, :7]=Top_Right_data\n",
        "\n",
        "# # Check if all elements in the 7th row from column 0 till column 7 in the top-left are 1s\n",
        "if np.all(qr_cells_numeric[7, :7] == 1):\n",
        "    print(\"All elements are 1s in the specified region.\")\n",
        "else:\n",
        "    print(\"Not all elements are 1s in the specified region.\")\n",
        "    # Set elements to 1 if they are not already 1\n",
        "    qr_cells_numeric[7, :7][qr_cells_numeric[7, :7] != 1] = 1\n",
        "    qr_cells_numeric[7, -7:][qr_cells_numeric[7, -7:] != 1] = 1\n",
        "\n",
        "print(qr_cells_numeric)"
      ]
    },
    {
      "cell_type": "code",
      "execution_count": 268,
      "metadata": {
        "id": "2cZ5K7Z3U1kc"
      },
      "outputs": [],
      "source": [
        "img3_21x21_grid_inv = 1 - qr_cells_numeric"
      ]
    },
    {
      "cell_type": "code",
      "execution_count": 269,
      "metadata": {
        "colab": {
          "base_uri": "https://localhost:8080/",
          "height": 452
        },
        "id": "eiDE1IKWn9u9",
        "outputId": "1a3f54c5-f25d-4417-b7ff-3a735aa48c8d"
      },
      "outputs": [
        {
          "output_type": "display_data",
          "data": {
            "text/plain": [
              "<Figure size 640x480 with 1 Axes>"
            ],
            "image/png": "[encoded data removed]"
          },
          "metadata": {}
        }
      ],
      "source": [
        "# Plot the qr_cells_numeric array\n",
        "plt.imshow(img3_21x21_grid_inv, cmap='binary',vmin=0,vmax=1)\n",
        "plt.title('QR Cells Numeric')\n",
        "plt.show()"
      ]
    },
    {
      "cell_type": "code",
      "execution_count": 257,
      "metadata": {
        "colab": {
          "base_uri": "https://localhost:8080/"
        },
        "id": "fqzfnaebUz1-",
        "outputId": "3565259d-d1a6-4e1f-8d53-e974717dbfb9"
      },
      "outputs": [
        {
          "output_type": "stream",
          "name": "stdout",
          "text": [
            "[1 1] [1 1 0]\n"
          ]
        }
      ],
      "source": [
        "ecl = img3_21x21_grid_inv[8, 0:2]\n",
        "mask = img3_21x21_grid_inv[8, 2:5]\n",
        "# I don't care about FEC because I know this is a perfect test case\n",
        "# However, you! should care (the FEC is what tells you whether the format bits are correct or not)\n",
        "# I will leave it up to you to check for their correctness via decoding or a lookup table\n",
        "# Since this time I won't demonstrate the FEC concept, I don't need to apply the FEC mask\n",
        "# Thus, these are our ECL and MASK values:\n",
        "print(ecl, mask)\n",
        "# Remember, regarding the ECL value, we choose from the following:\n",
        "# Level L (Low)         [11]\t7%  of data bytes can be restored.\n",
        "# Level M (Medium)      [10]\t15% of data bytes can be restored.\n",
        "# Level Q (Quartile)    [01]\t25% of data bytes can be restored.\n",
        "# Level H (High)        [00]\t30% of data bytes can be restored."
      ]
    },
    {
      "cell_type": "code",
      "execution_count": 258,
      "metadata": {
        "id": "k27q6Bi5UyDD"
      },
      "outputs": [],
      "source": [
        "# Dictionary of all masks and their equivalent formulae\n",
        "# P.S. I modified them to account for that I skipped the FEC mask part above\n",
        "# If you will do it, do not XOR the mask if you wish to use this MASKS table\n",
        "MASKS = {\n",
        "    \"000\": lambda i, j: (i * j) % 2 + (i * j) % 3 == 0,\n",
        "    \"001\": lambda i, j: (i // 2 + j // 3) % 2 == 0,\n",
        "    \"010\": lambda i, j: ((i + j) % 2 + (i * j) % 3) % 2 == 0,\n",
        "    \"011\": lambda i, j: ((i * j) % 2 + (i * j) % 3) % 2 == 0,\n",
        "    \"100\": lambda i, j: i % 2 == 0,\n",
        "    \"101\": lambda i, j: (i + j) % 2 == 0,\n",
        "    \"110\": lambda i, j: (i + j) % 3 == 0,\n",
        "    \"111\": lambda i, j: j % 3 == 0,\n",
        "}\n",
        "# Enum for the different directions of reading blocks in the QR code\n",
        "# The number indicates how many bytes are in this block\n",
        "UP8, UP4, DOWN8, DOWN4, CW8, CCW8 = range(6)"
      ]
    },
    {
      "cell_type": "code",
      "execution_count": 259,
      "metadata": {
        "id": "sXelWgw5UuK_"
      },
      "outputs": [],
      "source": [
        "# A more general apply_mask function (still works the same way)\n",
        "def apply_mask_general(data_start_i, data_start_j, data, mask, direction):\n",
        "    result = []\n",
        "    row_offsets = []\n",
        "    col_offsets = []\n",
        "    mask_str = ''.join([str(c) for c in mask])\n",
        "    if (direction in [UP8, UP4]):\n",
        "        row_offsets = [0,  0, -1, -1, -2, -2, -3, -3]\n",
        "        col_offsets = [0, -1,  0, -1,  0, -1,  0, -1]\n",
        "    if (direction in [DOWN8, DOWN4]):\n",
        "        row_offsets = [0,  0,  1,  1,  2,  2,  3,  3]\n",
        "        col_offsets = [0, -1,  0, -1,  0, -1,  0, -1]\n",
        "    if (direction == CW8):\n",
        "        row_offsets = [0,  0,  1,  1,  1,  1,  0,  0]\n",
        "        col_offsets = [0, -1,  0, -1, -2, -3, -2, -3]\n",
        "    if (direction == CCW8):\n",
        "        row_offsets = [0,  0, -1, -1, -1, -1,  0,  0]\n",
        "        col_offsets = [0, -1,  0, -1, -2, -3, -2, -3]\n",
        "    for i, j in zip(row_offsets, col_offsets):\n",
        "        cell_bit = bool(data[data_start_i+i, data_start_j+j])\n",
        "        mask_bit = MASKS[mask_str](data_start_i+i, data_start_j+j)\n",
        "        # Modules corresponding to the dark areas of the mask are inverted.\n",
        "        result.append(int(not cell_bit if mask_bit else cell_bit))\n",
        "    return result[:4] if direction in [UP4, DOWN4] else result"
      ]
    },
    {
      "cell_type": "code",
      "execution_count": 260,
      "metadata": {
        "colab": {
          "base_uri": "https://localhost:8080/"
        },
        "id": "7uCy4Ra_UscG",
        "outputId": "f4196900-c2d4-4708-8301-cd98d0e6bc00"
      },
      "outputs": [
        {
          "output_type": "stream",
          "name": "stdout",
          "text": [
            "[0, 1, 0, 0]\n"
          ]
        }
      ],
      "source": [
        "enc_bits = apply_mask_general(21-1, 21-1, img3_21x21_grid_inv, mask, UP8)[:4]\n",
        "print(enc_bits)\n",
        "# 0001\tNumeric encoding (10 bits per 3 digits)\n",
        "# 0010\tAlphanumeric encoding (11 bits per 2 characters)\n",
        "# 0100\tByte encoding (8 bits per character)\n",
        "# 1000\tKanji encoding (13 bits per character)\n",
        "# ..."
      ]
    },
    {
      "cell_type": "code",
      "execution_count": 261,
      "metadata": {
        "colab": {
          "base_uri": "https://localhost:8080/"
        },
        "id": "d7w7cCR8UqMq",
        "outputId": "1e6e4c64-fb08-4263-e811-ef18463e4e76"
      },
      "outputs": [
        {
          "output_type": "stream",
          "name": "stdout",
          "text": [
            "[0, 0, 0, 1, 0, 0, 0, 1] = 17 data symbols, each consisting of 8 bits\n"
          ]
        }
      ],
      "source": [
        "len_bits = apply_mask_general(21-3, 21-1, img3_21x21_grid_inv, mask, UP8)\n",
        "len_int = int(''.join([str(bit) for bit in len_bits]), 2)\n",
        "print(f'{len_bits} = {len_int} data symbols, each consisting of 8 bits')"
      ]
    },
    {
      "cell_type": "code",
      "execution_count": 262,
      "metadata": {
        "id": "Cxmg6SBiUoRP"
      },
      "outputs": [],
      "source": [
        "block_starting_indices = [\n",
        "    [21-7,  21-1,  UP8],\n",
        "    [21-11, 21-1,  CCW8],\n",
        "    [21-10, 21-3,  DOWN8],\n",
        "    [21-6,  21-3,  DOWN8],\n",
        "    [21-2,  21-3,  CW8],\n",
        "    [21-3,  21-5,  UP8],\n",
        "    [21-7,  21-5,  UP8],\n",
        "    [21-11, 21-5,  CCW8],\n",
        "    [21-10, 21-7,  DOWN8],\n",
        "    [21-6,  21-7,  DOWN8],\n",
        "    [21-2,  21-7,  CW8],\n",
        "    [21-3,  21-9,  UP8],\n",
        "    [21-7,  21-9,  UP8],\n",
        "    [21-11, 21-9,  UP8],\n",
        "    [21-16, 21-9,  UP8],\n",
        "    [21-20, 21-9,  CCW8],\n",
        "    [21-19, 21-11, DOWN8],\n",
        "    [21-14, 21-11, DOWN4],  # Special 4-byte block, reserved for END (if exists!)\n",
        "    [21-12, 21-11, DOWN8],\n",
        "    [21-8,  21-11, DOWN8],\n",
        "    [21-4,  21-11, DOWN8],\n",
        "    [21-9,  21-13, UP8],\n",
        "    [21-12, 21-16, DOWN8],\n",
        "    [21-9,  21-18, UP8],\n",
        "    [21-12, 21-20, DOWN8],\n",
        "]"
      ]
    },
    {
      "cell_type": "code",
      "execution_count": 263,
      "metadata": {
        "colab": {
          "base_uri": "https://localhost:8080/"
        },
        "id": "GorPo1oiUmKl",
        "outputId": "8e35777d-5949-478c-d6e8-db08e09b8a42"
      },
      "outputs": [
        {
          "output_type": "stream",
          "name": "stdout",
          "text": [
            "01100010 (=098) = b\n",
            "01110101 (=117) = u\n",
            "01110000 (=112) = p\n",
            "10100000 (=160) =  \n",
            "01101111 (=111) = o\n",
            "01101110 (=110) = n\n",
            "01101101 (=109) = m\n",
            "01110010 (=114) = r\n",
            "01101011 (=107) = k\n",
            "01001011 (=075) = K\n",
            "01101111 (=111) = o\n",
            "00100101 (=037) = %\n",
            "01101011 (=107) = k\n",
            "01101110 (=110) = n\n",
            "01100101 (=101) = e\n",
            "01111011 (=123) = {\n",
            "01101101 (=109) = m\n"
          ]
        }
      ],
      "source": [
        "message_bits = []\n",
        "message_bits.extend(enc_bits)\n",
        "message_bits.extend(len_bits)\n",
        "# Let me re-format this for better readability :)\n",
        "# First, let's read the data bytes, starting from the very first byte after enc and len\n",
        "byte_index = 0\n",
        "for _ in range(len_int):\n",
        "    start_i, start_j, dir = block_starting_indices[byte_index]\n",
        "    bits = apply_mask_general(start_i, start_j, img3_21x21_grid_inv, mask, dir)\n",
        "    message_bits.extend(bits)\n",
        "    bit_string = ''.join([str(bit) for bit in bits])\n",
        "    alpha_char = chr(int(bit_string, 2))\n",
        "    print(f'{bit_string} (={int(bit_string, 2):03d}) = {alpha_char}')\n",
        "    byte_index += 1"
      ]
    },
    {
      "cell_type": "code",
      "execution_count": 233,
      "metadata": {
        "colab": {
          "base_uri": "https://localhost:8080/"
        },
        "id": "fEaw59O0UkZ0",
        "outputId": "5874b097-f83d-478f-94fa-7d46c6222f56"
      },
      "outputs": [
        {
          "output_type": "stream",
          "name": "stdout",
          "text": [
            "[1, 0, 1, 1, 1, 1, 0, 0]\n"
          ]
        }
      ],
      "source": [
        "# After finishing all the characters, the next 4 bits are expected to be '0000'\n",
        "start_i, start_j, dir = block_starting_indices[byte_index]\n",
        "bits = apply_mask_general(start_i, start_j, img3_21x21_grid_inv, mask, dir)\n",
        "message_bits.extend(bits)\n",
        "print(bits)\n",
        "byte_index += 1"
      ]
    },
    {
      "cell_type": "code",
      "execution_count": 194,
      "metadata": {
        "colab": {
          "base_uri": "https://localhost:8080/",
          "height": 332
        },
        "id": "mwj-r5alUh2B",
        "outputId": "b0ad84a8-0e02-458d-915c-b9ad44844058"
      },
      "outputs": [
        {
          "output_type": "stream",
          "name": "stdout",
          "text": [
            "01110011 (=115) = s\n",
            "11011101 (=221) = Ý\n",
            "01000101 (=069) = E\n",
            "01011010 (=090) = Z\n",
            "11010000 (=208) = Ð\n",
            "01111010 (=122) = z\n",
            "01111011 (=123) = {\n"
          ]
        },
        {
          "output_type": "error",
          "ename": "IndexError",
          "evalue": "list index out of range",
          "traceback": [
            "\u001b[0;31m---------------------------------------------------------------------------\u001b[0m",
            "\u001b[0;31mIndexError\u001b[0m                                Traceback (most recent call last)",
            "\u001b[0;32m<ipython-input-194-67057ecc2ab3>\u001b[0m in \u001b[0;36m<cell line: 3>\u001b[0;34m()\u001b[0m\n\u001b[1;32m      2\u001b[0m \u001b[0;31m# There supposedly remain 25-2=23 bytes to be read\u001b[0m\u001b[0;34m\u001b[0m\u001b[0;34m\u001b[0m\u001b[0m\n\u001b[1;32m      3\u001b[0m \u001b[0;32mfor\u001b[0m \u001b[0m_\u001b[0m \u001b[0;32min\u001b[0m \u001b[0mrange\u001b[0m\u001b[0;34m(\u001b[0m\u001b[0;36m23\u001b[0m\u001b[0;34m)\u001b[0m\u001b[0;34m:\u001b[0m\u001b[0;34m\u001b[0m\u001b[0;34m\u001b[0m\u001b[0m\n\u001b[0;32m----> 4\u001b[0;31m     \u001b[0mstart_i\u001b[0m\u001b[0;34m,\u001b[0m \u001b[0mstart_j\u001b[0m\u001b[0;34m,\u001b[0m \u001b[0mdir\u001b[0m \u001b[0;34m=\u001b[0m \u001b[0mblock_starting_indices\u001b[0m\u001b[0;34m[\u001b[0m\u001b[0mbyte_index\u001b[0m\u001b[0;34m]\u001b[0m\u001b[0;34m\u001b[0m\u001b[0;34m\u001b[0m\u001b[0m\n\u001b[0m\u001b[1;32m      5\u001b[0m     \u001b[0mbits\u001b[0m \u001b[0;34m=\u001b[0m \u001b[0mapply_mask_general\u001b[0m\u001b[0;34m(\u001b[0m\u001b[0mstart_i\u001b[0m\u001b[0;34m,\u001b[0m \u001b[0mstart_j\u001b[0m\u001b[0;34m,\u001b[0m \u001b[0mimg3_21x21_grid_inv\u001b[0m\u001b[0;34m,\u001b[0m \u001b[0mmask\u001b[0m\u001b[0;34m,\u001b[0m \u001b[0mdir\u001b[0m\u001b[0;34m)\u001b[0m\u001b[0;34m\u001b[0m\u001b[0;34m\u001b[0m\u001b[0m\n\u001b[1;32m      6\u001b[0m     \u001b[0mmessage_bits\u001b[0m\u001b[0;34m.\u001b[0m\u001b[0mextend\u001b[0m\u001b[0;34m(\u001b[0m\u001b[0mbits\u001b[0m\u001b[0;34m)\u001b[0m\u001b[0;34m\u001b[0m\u001b[0;34m\u001b[0m\u001b[0m\n",
            "\u001b[0;31mIndexError\u001b[0m: list index out of range"
          ]
        }
      ],
      "source": [
        "# Let's see what the bytes that follow look like\n",
        "# There supposedly remain 25-2=23 bytes to be read\n",
        "for _ in range(23):\n",
        "    start_i, start_j, dir = block_starting_indices[byte_index]\n",
        "    bits = apply_mask_general(start_i, start_j, img3_21x21_grid_inv, mask, dir)\n",
        "    message_bits.extend(bits)\n",
        "    bit_string = ''.join([str(bit) for bit in bits])\n",
        "    alpha_char = chr(int(bit_string, 2))\n",
        "    print(f'{bit_string} (={int(bit_string, 2):03d}) = {alpha_char}')\n",
        "    byte_index += 1"
      ]
    },
    {
      "cell_type": "code",
      "execution_count": null,
      "metadata": {
        "colab": {
          "base_uri": "https://localhost:8080/"
        },
        "id": "A3SNmfkqfM2Z",
        "outputId": "892b164d-f55e-4d5d-a8a8-5923bcb03092"
      },
      "outputs": [
        {
          "output_type": "stream",
          "name": "stdout",
          "text": [
            "Collecting reedsolo\n",
            "  Downloading reedsolo-1.7.0-py3-none-any.whl (32 kB)\n",
            "Installing collected packages: reedsolo\n",
            "Successfully installed reedsolo-1.7.0\n"
          ]
        }
      ],
      "source": [
        "!pip install --upgrade reedsolo\n",
        "import reedsolo as rs"
      ]
    },
    {
      "cell_type": "code",
      "execution_count": 195,
      "metadata": {
        "colab": {
          "base_uri": "https://localhost:8080/",
          "height": 356
        },
        "id": "1JRnizDwUg5G",
        "outputId": "976a76a6-a2b3-42cd-b0b7-d6d2a7283861"
      },
      "outputs": [
        {
          "output_type": "error",
          "ename": "ReedSolomonError",
          "evalue": "Too many errors to correct",
          "traceback": [
            "\u001b[0;31m---------------------------------------------------------------------------\u001b[0m",
            "\u001b[0;31mReedSolomonError\u001b[0m                          Traceback (most recent call last)",
            "\u001b[0;32m<ipython-input-195-b8b5a6759e73>\u001b[0m in \u001b[0;36m<cell line: 8>\u001b[0;34m()\u001b[0m\n\u001b[1;32m      6\u001b[0m \u001b[0;34m\u001b[0m\u001b[0m\n\u001b[1;32m      7\u001b[0m \u001b[0;31m# Decode the bytes with the 7-ECC RS Codec\u001b[0m\u001b[0;34m\u001b[0m\u001b[0;34m\u001b[0m\u001b[0m\n\u001b[0;32m----> 8\u001b[0;31m \u001b[0mmessage_decoded\u001b[0m \u001b[0;34m=\u001b[0m \u001b[0mrsc\u001b[0m\u001b[0;34m.\u001b[0m\u001b[0mdecode\u001b[0m\u001b[0;34m(\u001b[0m\u001b[0mmessage_bytes\u001b[0m\u001b[0;34m)\u001b[0m\u001b[0;34m\u001b[0m\u001b[0;34m\u001b[0m\u001b[0m\n\u001b[0m\u001b[1;32m      9\u001b[0m \u001b[0mrsc\u001b[0m\u001b[0;34m.\u001b[0m\u001b[0mmaxerrata\u001b[0m\u001b[0;34m(\u001b[0m\u001b[0mverbose\u001b[0m\u001b[0;34m=\u001b[0m\u001b[0;32mTrue\u001b[0m\u001b[0;34m)\u001b[0m\u001b[0;34m\u001b[0m\u001b[0;34m\u001b[0m\u001b[0m\n\u001b[1;32m     10\u001b[0m \u001b[0;34m\u001b[0m\u001b[0m\n",
            "\u001b[0;32m/usr/local/lib/python3.10/dist-packages/reedsolo.py\u001b[0m in \u001b[0;36mdecode\u001b[0;34m(self, data, nsym, erase_pos, only_erasures)\u001b[0m\n\u001b[1;32m    927\u001b[0m                 \u001b[0merase_pos\u001b[0m \u001b[0;34m=\u001b[0m \u001b[0;34m[\u001b[0m\u001b[0mx\u001b[0m \u001b[0;34m-\u001b[0m \u001b[0mself\u001b[0m\u001b[0;34m.\u001b[0m\u001b[0mnsize\u001b[0m \u001b[0;32mfor\u001b[0m \u001b[0mx\u001b[0m \u001b[0;32min\u001b[0m \u001b[0merase_pos\u001b[0m \u001b[0;32mif\u001b[0m \u001b[0mx\u001b[0m \u001b[0;34m>=\u001b[0m \u001b[0mself\u001b[0m\u001b[0;34m.\u001b[0m\u001b[0mnsize\u001b[0m\u001b[0;34m]\u001b[0m\u001b[0;34m\u001b[0m\u001b[0;34m\u001b[0m\u001b[0m\n\u001b[1;32m    928\u001b[0m             \u001b[0;31m# Decode/repair this chunk!\u001b[0m\u001b[0;34m\u001b[0m\u001b[0;34m\u001b[0m\u001b[0m\n\u001b[0;32m--> 929\u001b[0;31m             \u001b[0mrmes\u001b[0m\u001b[0;34m,\u001b[0m \u001b[0mrecc\u001b[0m\u001b[0;34m,\u001b[0m \u001b[0merrata_pos\u001b[0m \u001b[0;34m=\u001b[0m \u001b[0mrs_correct_msg\u001b[0m\u001b[0;34m(\u001b[0m\u001b[0mchunk\u001b[0m\u001b[0;34m,\u001b[0m \u001b[0mnsym\u001b[0m\u001b[0;34m,\u001b[0m \u001b[0mfcr\u001b[0m\u001b[0;34m=\u001b[0m\u001b[0mself\u001b[0m\u001b[0;34m.\u001b[0m\u001b[0mfcr\u001b[0m\u001b[0;34m,\u001b[0m \u001b[0mgenerator\u001b[0m\u001b[0;34m=\u001b[0m\u001b[0mself\u001b[0m\u001b[0;34m.\u001b[0m\u001b[0mgenerator\u001b[0m\u001b[0;34m,\u001b[0m \u001b[0merase_pos\u001b[0m\u001b[0;34m=\u001b[0m\u001b[0me_pos\u001b[0m\u001b[0;34m,\u001b[0m \u001b[0monly_erasures\u001b[0m\u001b[0;34m=\u001b[0m\u001b[0monly_erasures\u001b[0m\u001b[0;34m)\u001b[0m\u001b[0;34m\u001b[0m\u001b[0;34m\u001b[0m\u001b[0m\n\u001b[0m\u001b[1;32m    930\u001b[0m             \u001b[0mdec\u001b[0m\u001b[0;34m.\u001b[0m\u001b[0mextend\u001b[0m\u001b[0;34m(\u001b[0m\u001b[0mrmes\u001b[0m\u001b[0;34m)\u001b[0m\u001b[0;34m\u001b[0m\u001b[0;34m\u001b[0m\u001b[0m\n\u001b[1;32m    931\u001b[0m             \u001b[0mdec_full\u001b[0m\u001b[0;34m.\u001b[0m\u001b[0mextend\u001b[0m\u001b[0;34m(\u001b[0m\u001b[0mrmes\u001b[0m\u001b[0;34m+\u001b[0m\u001b[0mrecc\u001b[0m\u001b[0;34m)\u001b[0m\u001b[0;34m\u001b[0m\u001b[0;34m\u001b[0m\u001b[0m\n",
            "\u001b[0;32m/usr/local/lib/python3.10/dist-packages/reedsolo.py\u001b[0m in \u001b[0;36mrs_correct_msg\u001b[0;34m(msg_in, nsym, fcr, generator, erase_pos, only_erasures)\u001b[0m\n\u001b[1;32m    746\u001b[0m         \u001b[0mfsynd\u001b[0m \u001b[0;34m=\u001b[0m \u001b[0mrs_forney_syndromes\u001b[0m\u001b[0;34m(\u001b[0m\u001b[0msynd\u001b[0m\u001b[0;34m,\u001b[0m \u001b[0merase_pos\u001b[0m\u001b[0;34m,\u001b[0m \u001b[0mlen\u001b[0m\u001b[0;34m(\u001b[0m\u001b[0mmsg_out\u001b[0m\u001b[0;34m)\u001b[0m\u001b[0;34m,\u001b[0m \u001b[0mgenerator\u001b[0m\u001b[0;34m)\u001b[0m\u001b[0;34m\u001b[0m\u001b[0;34m\u001b[0m\u001b[0m\n\u001b[1;32m    747\u001b[0m         \u001b[0;31m# compute the error locator polynomial using Berlekamp-Massey\u001b[0m\u001b[0;34m\u001b[0m\u001b[0;34m\u001b[0m\u001b[0m\n\u001b[0;32m--> 748\u001b[0;31m         \u001b[0merr_loc\u001b[0m \u001b[0;34m=\u001b[0m \u001b[0mrs_find_error_locator\u001b[0m\u001b[0;34m(\u001b[0m\u001b[0mfsynd\u001b[0m\u001b[0;34m,\u001b[0m \u001b[0mnsym\u001b[0m\u001b[0;34m,\u001b[0m \u001b[0merase_count\u001b[0m\u001b[0;34m=\u001b[0m\u001b[0mlen\u001b[0m\u001b[0;34m(\u001b[0m\u001b[0merase_pos\u001b[0m\u001b[0;34m)\u001b[0m\u001b[0;34m)\u001b[0m\u001b[0;34m\u001b[0m\u001b[0;34m\u001b[0m\u001b[0m\n\u001b[0m\u001b[1;32m    749\u001b[0m         \u001b[0;31m# locate the message errors using Chien search (or bruteforce search)\u001b[0m\u001b[0;34m\u001b[0m\u001b[0;34m\u001b[0m\u001b[0m\n\u001b[1;32m    750\u001b[0m         \u001b[0merr_pos\u001b[0m \u001b[0;34m=\u001b[0m \u001b[0mrs_find_errors\u001b[0m\u001b[0;34m(\u001b[0m\u001b[0merr_loc\u001b[0m\u001b[0;34m[\u001b[0m\u001b[0;34m:\u001b[0m\u001b[0;34m:\u001b[0m\u001b[0;34m-\u001b[0m\u001b[0;36m1\u001b[0m\u001b[0;34m]\u001b[0m\u001b[0;34m,\u001b[0m \u001b[0mlen\u001b[0m\u001b[0;34m(\u001b[0m\u001b[0mmsg_out\u001b[0m\u001b[0;34m)\u001b[0m\u001b[0;34m,\u001b[0m \u001b[0mgenerator\u001b[0m\u001b[0;34m)\u001b[0m\u001b[0;34m\u001b[0m\u001b[0;34m\u001b[0m\u001b[0m\n",
            "\u001b[0;32m/usr/local/lib/python3.10/dist-packages/reedsolo.py\u001b[0m in \u001b[0;36mrs_find_error_locator\u001b[0;34m(synd, nsym, erase_loc, erase_count)\u001b[0m\n\u001b[1;32m    659\u001b[0m     \u001b[0merrs\u001b[0m \u001b[0;34m=\u001b[0m \u001b[0mlen\u001b[0m\u001b[0;34m(\u001b[0m\u001b[0merr_loc\u001b[0m\u001b[0;34m)\u001b[0m \u001b[0;34m-\u001b[0m \u001b[0;36m1\u001b[0m\u001b[0;34m\u001b[0m\u001b[0;34m\u001b[0m\u001b[0m\n\u001b[1;32m    660\u001b[0m     \u001b[0;32mif\u001b[0m \u001b[0;34m(\u001b[0m\u001b[0merrs\u001b[0m\u001b[0;34m-\u001b[0m\u001b[0merase_count\u001b[0m\u001b[0;34m)\u001b[0m \u001b[0;34m*\u001b[0m \u001b[0;36m2\u001b[0m \u001b[0;34m+\u001b[0m \u001b[0merase_count\u001b[0m \u001b[0;34m>\u001b[0m \u001b[0mnsym\u001b[0m\u001b[0;34m:\u001b[0m\u001b[0;34m\u001b[0m\u001b[0;34m\u001b[0m\u001b[0m\n\u001b[0;32m--> 661\u001b[0;31m         \u001b[0;32mraise\u001b[0m \u001b[0mReedSolomonError\u001b[0m\u001b[0;34m(\u001b[0m\u001b[0;34m\"Too many errors to correct\"\u001b[0m\u001b[0;34m)\u001b[0m\u001b[0;34m\u001b[0m\u001b[0;34m\u001b[0m\u001b[0m\n\u001b[0m\u001b[1;32m    662\u001b[0m \u001b[0;34m\u001b[0m\u001b[0m\n\u001b[1;32m    663\u001b[0m     \u001b[0;32mreturn\u001b[0m \u001b[0merr_loc\u001b[0m\u001b[0;34m\u001b[0m\u001b[0;34m\u001b[0m\u001b[0m\n",
            "\u001b[0;31mReedSolomonError\u001b[0m: Too many errors to correct"
          ]
        }
      ],
      "source": [
        "# For every 8 bits in the extracted message, convert to a byte\n",
        "message_bytes = [int(\"\".join(map(str, message_bits[i:i+8])), 2) for i in range(0, len(message_bits), 8)]\n",
        "\n",
        "# Create the Reed-Solomon Codec for 7 ECC symbols (again, this is L)\n",
        "rsc = rs.RSCodec(nsym=7)\n",
        "\n",
        "# Decode the bytes with the 7-ECC RS Codec\n",
        "message_decoded = rsc.decode(message_bytes)\n",
        "rsc.maxerrata(verbose=True)\n",
        "\n",
        "# In order to extract the actual data, need to convert back to bits\n",
        "# Then take as many bytes as indicated by the message length indicator\n",
        "# That is AFTER removing the first 12 bytes (of enc and len)\n",
        "data_bits = bin(int.from_bytes(message_decoded[0], byteorder='big'))[13:13+len_int*8]\n",
        "\n",
        "# Now convert back to bytes and print it lol\n",
        "data_bytes = int(data_bits, 2).to_bytes((len(data_bits)+7)//8, 'big')\n",
        "print(f'Data in message = \"{data_bytes.decode(encoding=\"iso-8859-1\")}\"')\n"
      ]
    }
  ],
  "metadata": {
    "colab": {
      "provenance": []
    },
    "kernelspec": {
      "display_name": "Python 3",
      "name": "python3"
    },
    "language_info": {
      "name": "python"
    }
  },
  "nbformat": 4,
  "nbformat_minor": 0
}